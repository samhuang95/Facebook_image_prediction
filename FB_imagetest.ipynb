{
  "cells": [
    {
      "cell_type": "code",
      "execution_count": null,
      "metadata": {
        "id": "YPNP0PVZTmQu"
      },
      "outputs": [],
      "source": [
        "import numpy as np\n",
        "import tensorflow as tf\n",
        "import cv2, os\n",
        "from sklearn.model_selection import train_test_split\n",
        "from tensorflow.keras.utils import to_categorical\n",
        "from tensorflow.keras.models import Sequential\n",
        "from tensorflow.keras.layers import GlobalAveragePooling2D, Dense, Dropout\n",
        "from tensorflow.keras.regularizers import l2\n",
        "from tensorflow.keras.optimizers import Adam\n",
        "from tensorflow.keras.callbacks import EarlyStopping\n"
      ]
    },
    {
      "cell_type": "code",
      "execution_count": null,
      "metadata": {
        "colab": {
          "base_uri": "https://localhost:8080/"
        },
        "id": "mSa8ElnGfFhb",
        "outputId": "c2eeb53f-7a7f-484d-a3ac-1ecc944139b9"
      },
      "outputs": [
        {
          "output_type": "stream",
          "name": "stdout",
          "text": [
            "Mounted at /content/drive\n"
          ]
        }
      ],
      "source": [
        "from google.colab import drive  # on colab\n",
        "\n",
        "drive.mount('/content/drive')"
      ]
    },
    {
      "cell_type": "code",
      "execution_count": null,
      "metadata": {
        "id": "WNrR1IKMeHz5"
      },
      "outputs": [],
      "source": [
        "import json\n",
        "\n",
        "path = '/content/drive/MyDrive/Colab Notebooks/Project'\n",
        "\n",
        "with open(f'{path}/photo_data.json', 'r', encoding='utf-8') as f:\n",
        "    post_data = json.load(f)"
      ]
    },
    {
      "cell_type": "code",
      "execution_count": null,
      "metadata": {
        "id": "cAHboqtMeNR6"
      },
      "outputs": [],
      "source": [
        "images, exposures = [], []\n",
        "for img_name in os.listdir(f'{path}/photos'):\n",
        "    img = cv2.imread(f'{path}/photos/{img_name}')\n",
        "    img = cv2.resize(img, (224, 224,))\n",
        "    images.append(img)\n",
        "    \n",
        "    img_id = img_name.split('_')[0]\n",
        "    photo_views = post_data[img_id]['photo_views']\n",
        "    impressions_unique = post_data[img_id]['impressions_unique']\n",
        "    r = photo_views / impressions_unique\n",
        "    exposures.append(r)\n"
      ]
    },
    {
      "cell_type": "code",
      "execution_count": null,
      "metadata": {
        "id": "EyG955xsEajo",
        "colab": {
          "base_uri": "https://localhost:8080/"
        },
        "outputId": "578c5ccf-94d1-4ec1-f2e8-7ded642a4725"
      },
      "outputs": [
        {
          "output_type": "stream",
          "name": "stdout",
          "text": [
            "0.0039728349886637305 0.015248001220329647 0.045274756321514335\n"
          ]
        }
      ],
      "source": [
        "sorted_data = np.sort(exposures)\n",
        "\n",
        "Q1 = np.percentile(sorted_data, 25)\n",
        "Q2 = np.percentile(sorted_data, 50)\n",
        "Q3 = np.percentile(sorted_data, 75)\n",
        "\n",
        "split1 = sorted_data[0]\n",
        "split2 = Q1\n",
        "split3 = Q2\n",
        "split4 = Q3\n",
        "split5 = sorted_data[-1]\n",
        "\n",
        "exposure_labels = np.zeros_like(exposures)\n",
        "exposure_labels[(exposures >= split1) & (exposures < split2)] = 0\n",
        "exposure_labels[(exposures >= split2) & (exposures < split3)] = 1\n",
        "exposure_labels[(exposures >= split3) & (exposures < split4)] = 2\n",
        "exposure_labels[(exposures >= split4) & (exposures <= split5)] = 3\n",
        "\n",
        "print(split2, split3, split4)"
      ]
    },
    {
      "cell_type": "code",
      "execution_count": null,
      "metadata": {
        "id": "-4zpIGY6GNTw"
      },
      "outputs": [],
      "source": [
        "X = np.array(images)/255.\n",
        "y = np.array(exposure_labels)\n",
        "X_train, X_test, y_train, y_test = train_test_split(X, y, test_size=0.2, random_state=42, stratify=y)"
      ]
    },
    {
      "cell_type": "code",
      "execution_count": null,
      "metadata": {
        "id": "yrG34fzYczBw"
      },
      "outputs": [],
      "source": [
        "y_train = to_categorical(y_train, num_classes=4)\n",
        "y_test = to_categorical(y_test, num_classes=4)"
      ]
    },
    {
      "cell_type": "code",
      "execution_count": null,
      "metadata": {
        "id": "5DsS0VKqeVOb",
        "colab": {
          "base_uri": "https://localhost:8080/"
        },
        "outputId": "499510b1-bea2-4203-e4f7-4a7ae7eae213"
      },
      "outputs": [
        {
          "output_type": "stream",
          "name": "stdout",
          "text": [
            "Model: \"sequential\"\n",
            "_________________________________________________________________\n",
            " Layer (type)                Output Shape              Param #   \n",
            "=================================================================\n",
            " inception_v3 (Functional)   (None, 5, 5, 2048)        21802784  \n",
            "                                                                 \n",
            " global_average_pooling2d (G  (None, 2048)             0         \n",
            " lobalAveragePooling2D)                                          \n",
            "                                                                 \n",
            " dense (Dense)               (None, 512)               1049088   \n",
            "                                                                 \n",
            " dropout (Dropout)           (None, 512)               0         \n",
            "                                                                 \n",
            " dense_1 (Dense)             (None, 256)               131328    \n",
            "                                                                 \n",
            " dropout_1 (Dropout)         (None, 256)               0         \n",
            "                                                                 \n",
            " dense_2 (Dense)             (None, 4)                 1028      \n",
            "                                                                 \n",
            "=================================================================\n",
            "Total params: 22,984,228\n",
            "Trainable params: 1,181,444\n",
            "Non-trainable params: 21,802,784\n",
            "_________________________________________________________________\n"
          ]
        }
      ],
      "source": [
        "from tensorflow.keras.applications import InceptionV3\n",
        "\n",
        "base_model = InceptionV3(input_shape=(224, 224, 3), include_top=False, weights='imagenet') \n",
        "\n",
        "for layer in base_model.layers:\n",
        "    layer.trainable = False  #true or mobilenet\n",
        "\n",
        "model = Sequential()\n",
        "model.add(base_model)\n",
        "model.add(GlobalAveragePooling2D())\n",
        "model.add(Dense(512, activation='relu', kernel_regularizer=l2(0.001)))\n",
        "model.add(Dropout(0.2))\n",
        "model.add(Dense(256, activation='relu', kernel_regularizer=l2(0.001)))\n",
        "model.add(Dropout(0.2))\n",
        "model.add(Dense(4, activation='softmax'))\n",
        "\n",
        "model.summary()"
      ]
    },
    {
      "cell_type": "code",
      "execution_count": null,
      "metadata": {
        "id": "KkGcfkZneXCD"
      },
      "outputs": [],
      "source": [
        "from keras.optimizers import RMSprop\n",
        "\n",
        "optimizer = Adam(learning_rate=0.001) \n",
        "early_stopping = EarlyStopping(monitor='val_loss', patience=10, restore_best_weights=True)\n",
        "model.compile(optimizer=optimizer, loss='categorical_crossentropy', metrics=['accuracy'])\n",
        "history = model.fit(X_train, y_train, epochs=50, validation_data=(X_test, y_test), validation_freq=1)# , callbacks=[early_stopping])"
      ]
    },
    {
      "cell_type": "code",
      "execution_count": null,
      "metadata": {
        "id": "1Qw2gvcijOqw"
      },
      "outputs": [],
      "source": [
        "# Evaluate the model on the test set\n",
        "loss, accuracy = model.evaluate(X_test, y_test)\n",
        "\n",
        "# Print the test set accuracy\n",
        "print('Test set accuracy:', accuracy)"
      ]
    },
    {
      "cell_type": "code",
      "execution_count": null,
      "metadata": {
        "id": "NAwQPigGr8Tf"
      },
      "outputs": [],
      "source": [
        "# model.save('my_model.h5')"
      ]
    }
  ],
  "metadata": {
    "accelerator": "GPU",
    "colab": {
      "gpuType": "T4",
      "provenance": []
    },
    "gpuClass": "standard",
    "kernelspec": {
      "display_name": "Python 3",
      "name": "python3"
    },
    "language_info": {
      "codemirror_mode": {
        "name": "ipython",
        "version": 3
      },
      "file_extension": ".py",
      "mimetype": "text/x-python",
      "name": "python",
      "nbconvert_exporter": "python",
      "pygments_lexer": "ipython3",
      "version": "3.11.2"
    }
  },
  "nbformat": 4,
  "nbformat_minor": 0
}